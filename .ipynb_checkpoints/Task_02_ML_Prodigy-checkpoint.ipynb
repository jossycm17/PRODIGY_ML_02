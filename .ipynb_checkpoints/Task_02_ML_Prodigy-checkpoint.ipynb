{
 "cells": [
  {
   "cell_type": "markdown",
   "id": "843280e6-009e-4bab-a472-28134a47bdb1",
   "metadata": {},
   "source": [
    "Name: yossief chanyalew mekonnen\r\n",
    "\r\n",
    "Tas2 M machine learninCrate k-mean clustering algorithm to group customers of a retail store based on their purchase historyooms"
   ]
  },
  {
   "cell_type": "code",
   "execution_count": null,
   "id": "3252da05-aeb4-4dc2-8b08-1f4df0e94579",
   "metadata": {},
   "outputs": [],
   "source": []
  },
  {
   "cell_type": "code",
   "execution_count": null,
   "id": "ee96b6f9-57b1-43e5-9f38-c7a86ff4f48b",
   "metadata": {},
   "outputs": [],
   "source": []
  }
 ],
 "metadata": {
  "kernelspec": {
   "display_name": "Python 3 (ipykernel)",
   "language": "python",
   "name": "python3"
  },
  "language_info": {
   "codemirror_mode": {
    "name": "ipython",
    "version": 3
   },
   "file_extension": ".py",
   "mimetype": "text/x-python",
   "name": "python",
   "nbconvert_exporter": "python",
   "pygments_lexer": "ipython3",
   "version": "3.11.4"
  }
 },
 "nbformat": 4,
 "nbformat_minor": 5
}
